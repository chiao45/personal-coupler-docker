{
 "cells": [
  {
   "cell_type": "code",
   "execution_count": 1,
   "metadata": {},
   "outputs": [],
   "source": [
    "from ovcg import *\n",
    "from fesol import *\n",
    "import numpy as np\n",
    "import scipy.io as sio\n",
    "from interface import DynamicUnderRelaxation, InterfaceData, RelativeCovergenceMonitor"
   ]
  },
  {
   "cell_type": "code",
   "execution_count": 2,
   "metadata": {},
   "outputs": [],
   "source": [
    "# use 2nd order or not\n",
    "use_2nd = True\n",
    "if use_2nd:\n",
    "    fluid_input = 'inputs/fluidCgins_ho.cmd'\n",
    "    fluid_output = 'outputs/fluid2ndos.pvd'\n",
    "    solid_output = 'outputs/solid2ndps.pvd'\n",
    "else:\n",
    "    fluid_input = 'inputs/fluidCgins.cmd'\n",
    "    fluid_output = 'outputs/fluidos.pvd'\n",
    "    solid_output = 'outputs/solidos.pvd'"
   ]
  },
  {
   "cell_type": "code",
   "execution_count": 3,
   "metadata": {},
   "outputs": [],
   "source": [
    "# since this is a matching interface, we can create\n",
    "# exact interface nodes mappings.\n",
    "# this step is done offline\n",
    "# create mapping\n",
    "inodes = 64\n",
    "f2s = np.empty(inodes, dtype=int)\n",
    "s2f = np.empty(inodes, dtype=int)\n",
    "# this is done offline!\n",
    "f2s[0] = 0\n",
    "f2s[-1] = 1\n",
    "for i in range(inodes-2):\n",
    "    f2s[i+1] = 62-i+1\n",
    "s2f[0] = 0\n",
    "s2f[1] = 63\n",
    "for i in range(62):\n",
    "    s2f[i+2] = 62-i"
   ]
  },
  {
   "cell_type": "code",
   "execution_count": 4,
   "metadata": {},
   "outputs": [],
   "source": [
    "# fluid solver\n",
    "interface_grid = 0\n",
    "interface_side = 1\n",
    "interface_axis = 0\n",
    "\n",
    "solverF = Cgins()\n",
    "solverF.read_cmd(fluid_input)\n",
    "solverF.init_grid()\n",
    "solverF.init_temperature_interface(\n",
    "    grid=interface_grid,\n",
    "    side=interface_side,\n",
    "    axis=interface_axis\n",
    ")\n",
    "solverF.init_solver(debug=0, logname='outputs/dummy')\n",
    "fluid_ofile = VtkFile(fluid_output)"
   ]
  },
  {
   "cell_type": "code",
   "execution_count": 5,
   "metadata": {},
   "outputs": [],
   "source": [
    "# solid solver\n",
    "fixed_temp_tag = 3\n",
    "adiabatic_tag1 = 2\n",
    "adiabatic_tag2 = 4\n",
    "interface_tag = 5\n",
    "\n",
    "kappa = 0.1\n",
    "rho = 1.0\n",
    "Cp = 0.485\n",
    "T_bot = 1.0\n",
    "\n",
    "solverS = HeatSolver(kappa=kappa, rho=rho, Cp=Cp, transient=True)\n",
    "solverS.output_file = solid_output\n",
    "solverS.load_mesh('inputs/solid.msh')\n",
    "solverS.set_initial_condition(0.0)\n",
    "solverS.define_adiabatic_bd(tag=adiabatic_tag1)\n",
    "solverS.define_adiabatic_bd(tag=adiabatic_tag2)\n",
    "solverS.define_const_temperature_bd(tag=fixed_temp_tag, value=T_bot)\n",
    "solverS.define_flux_interface(tag=interface_tag)\n",
    "solverS.init_solver()"
   ]
  },
  {
   "cell_type": "code",
   "execution_count": 6,
   "metadata": {},
   "outputs": [],
   "source": [
    "# coupling data and setups\n",
    "fluxF = InterfaceData(size=inodes, value=0.0)\n",
    "fluxS = InterfaceData(size=inodes, value=0.0)\n",
    "tempF = InterfaceData(size=inodes, value=0.0)\n",
    "tempS = InterfaceData(size=inodes, value=0.0)\n",
    "\n",
    "under_relax = DynamicUnderRelaxation(init_omega=1.0)\n",
    "conv_mntr = RelativeCovergenceMonitor(tol=1e-6)\n",
    "\n",
    "# maximum pc steps allowed\n",
    "max_pc_steps = 200"
   ]
  },
  {
   "cell_type": "code",
   "execution_count": 7,
   "metadata": {},
   "outputs": [],
   "source": [
    "# coupling timing information, use fixed time step for now\n",
    "Tfinal = 1.0\n",
    "N = 100\n",
    "dt = Tfinal/N\n",
    "t = 0.0\n",
    "\n",
    "tf = 0.5*dt"
   ]
  },
  {
   "cell_type": "code",
   "execution_count": 8,
   "metadata": {},
   "outputs": [],
   "source": [
    "# begin to couple\n",
    "for step in range(N):\n",
    "    t += dt\n",
    "    \n",
    "    # back up previous interface values\n",
    "    # tempS.backup()\n",
    "    \n",
    "    # advance fluid\n",
    "    solverF.advance(t=t, dt=dt)\n",
    "    \n",
    "    # get the time step flux\n",
    "    fluxF.curr[:] = solverF.get_heat_flux_interface(\n",
    "        grid=interface_grid,\n",
    "        side=interface_side,\n",
    "        axis=interface_axis\n",
    "    )\n",
    "    \n",
    "    # mapping\n",
    "    fluxS.curr[:] = fluxF.curr[f2s]\n",
    "    \n",
    "    # update solid flux interface\n",
    "    solverS.update_flux_interface(interface_tag, fluxS.curr)\n",
    "    \n",
    "    # advance solid\n",
    "    solverS.advance(t=t, dt=dt)\n",
    "    \n",
    "    # retrieve solid interface temperature\n",
    "    tempS.curr[:] = solverS.get_interface_temperature(tag=interface_tag)\n",
    "    \n",
    "    # time interpolation to half time step\n",
    "    tempF.curr[:] = tempS.curr[s2f]\n",
    "    \n",
    "    # update fluid temperature interface\n",
    "    solverF.put_temperature_interface(\n",
    "        grid=interface_grid,\n",
    "        side=interface_side,\n",
    "        axis=interface_axis,\n",
    "        data=tempF.curr\n",
    "    )\n",
    "    \n",
    "    solverS.write()\n",
    "    fluid_ofile.write(solverF, tf)\n",
    "    "
   ]
  }
 ],
 "metadata": {
  "kernelspec": {
   "display_name": "Python 3",
   "language": "python",
   "name": "python3"
  },
  "language_info": {
   "codemirror_mode": {
    "name": "ipython",
    "version": 3
   },
   "file_extension": ".py",
   "mimetype": "text/x-python",
   "name": "python",
   "nbconvert_exporter": "python",
   "pygments_lexer": "ipython3",
   "version": "3.6.3"
  },
  "latex_envs": {
   "LaTeX_envs_menu_present": true,
   "autoclose": false,
   "autocomplete": true,
   "bibliofile": "biblio.bib",
   "cite_by": "apalike",
   "current_citInitial": 1,
   "eqLabelWithNumbers": true,
   "eqNumInitial": 1,
   "hotkeys": {
    "equation": "Ctrl-E",
    "itemize": "Ctrl-I"
   },
   "labels_anchors": false,
   "latex_user_defs": false,
   "report_style_numbering": false,
   "user_envs_cfg": false
  }
 },
 "nbformat": 4,
 "nbformat_minor": 2
}
