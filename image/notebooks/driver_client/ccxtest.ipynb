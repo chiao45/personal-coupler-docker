{
 "cells": [
  {
   "cell_type": "code",
   "execution_count": 1,
   "metadata": {},
   "outputs": [],
   "source": [
    "from pyccx.server import *"
   ]
  },
  {
   "cell_type": "code",
   "execution_count": 2,
   "metadata": {},
   "outputs": [
    {
     "name": "stderr",
     "output_type": "stream",
     "text": [
      "PYCCX - INFO - ccx_server: Found host ip addresses from [hostname]\n",
      "PYCCX - INFO - ccx_server: IP/host list is ['172.17.0.2']\n",
      "PYCCX - INFO - ccx_server: This server will use IP/host:172.17.0.2 and PORT:8888\n",
      "PYCCX - INFO - ccx_server: Streamer socket info: address is ('172.17.0.2', 8888)\n",
      "PYCCX - INFO - ccx_server: Create socket...\n",
      "PYCCX - INFO - ccx_server: Binding...\n",
      "PYCCX - INFO - ccx_server: Listenning...\n"
     ]
    }
   ],
   "source": [
    "ccx = CCXServer()"
   ]
  },
  {
   "cell_type": "code",
   "execution_count": 3,
   "metadata": {},
   "outputs": [],
   "source": [
    "config = CouplingControl()"
   ]
  },
  {
   "cell_type": "code",
   "execution_count": 4,
   "metadata": {},
   "outputs": [],
   "source": [
    "config.addr = ccx.addr"
   ]
  },
  {
   "cell_type": "code",
   "execution_count": 5,
   "metadata": {},
   "outputs": [],
   "source": [
    "config.create_coupling_step(\n",
    "    1,\n",
    "    study='CHT',\n",
    "    nset='Inodes',\n",
    "    elset='Interface',\n",
    "    server2client=DFLUX_TAG,\n",
    "    client2server=TEMP_TAG\n",
    ")"
   ]
  },
  {
   "cell_type": "code",
   "execution_count": 6,
   "metadata": {},
   "outputs": [],
   "source": [
    "config.write('coupling.ini')"
   ]
  },
  {
   "cell_type": "code",
   "execution_count": 7,
   "metadata": {},
   "outputs": [
    {
     "name": "stderr",
     "output_type": "stream",
     "text": [
      "PYCCX - INFO - ccx_server: Coupling control file coupling.ini\n",
      "PYCCX - INFO - ccx_server: Jobname is solid/solidN\n"
     ]
    }
   ],
   "source": [
    "ccx.run('solid/solidN', ini_control='coupling.ini')"
   ]
  },
  {
   "cell_type": "code",
   "execution_count": 8,
   "metadata": {},
   "outputs": [
    {
     "name": "stderr",
     "output_type": "stream",
     "text": [
      "PYCCX - INFO - ccx_server: Accepted connection from ('172.17.0.2', 48286)\n",
      "PYCCX - INFO - ccx_server: Recv integer size of 4\n"
     ]
    }
   ],
   "source": [
    "ccx.accept_connection()"
   ]
  },
  {
   "cell_type": "code",
   "execution_count": 9,
   "metadata": {},
   "outputs": [
    {
     "name": "stderr",
     "output_type": "stream",
     "text": [
      "PYCCX - INFO - ccx_server: Receive action STEP\n",
      "PYCCX - INFO - ccx_server: Receive action COORS\n",
      "PYCCX - INFO - ccx_server: Receive action CENTRES\n",
      "PYCCX - INFO - ccx_server: Receive action CONN\n",
      "PYCCX - INFO - ccx_server: Receive action DONE\n",
      "PYCCX - INFO - ccx_server: receive DONE signal\n",
      "PYCCX - INFO - ccx_server: Create new interface mesh\n",
      "PYCCX - INFO - imesh: This mesh has nodes 171 and element 264.\n",
      "PYCCX - INFO - imesh: Building local connectivity table...\n",
      "PYCCX - INFO - imesh: And, done!\n",
      "PYCCX - INFO - ccx_server: And, done!\n",
      "PYCCX - INFO - ccx_server: Create new interface data\n",
      "PYCCX - INFO - idata: server2client field distributed heat flux, client2server field temperature.\n",
      "PYCCX - INFO - ccx_server: And, done!\n"
     ]
    }
   ],
   "source": [
    "ccx.initialize_coupling_step(server2client=DFLUX_TAG, client2server=TEMP_TAG)"
   ]
  },
  {
   "cell_type": "code",
   "execution_count": 10,
   "metadata": {},
   "outputs": [],
   "source": [
    "import numpy as np"
   ]
  },
  {
   "cell_type": "code",
   "execution_count": 11,
   "metadata": {},
   "outputs": [],
   "source": [
    "nsize, esize = ccx.imesh.nsize, ccx.imesh.esize"
   ]
  },
  {
   "cell_type": "code",
   "execution_count": 12,
   "metadata": {},
   "outputs": [],
   "source": [
    "flux = np.zeros(esize)"
   ]
  },
  {
   "cell_type": "code",
   "execution_count": 13,
   "metadata": {},
   "outputs": [],
   "source": [
    "T = 50.0\n",
    "dt = 0.05\n",
    "t = 0.0"
   ]
  },
  {
   "cell_type": "code",
   "execution_count": 14,
   "metadata": {},
   "outputs": [
    {
     "name": "stderr",
     "output_type": "stream",
     "text": [
      "PYCCX - INFO - ccx_server: Got data fields ['dflux'], first update database\n",
      "PYCCX - INFO - ccx_server: Send database to the solver client\n",
      "PYCCX - INFO - ccx_server: Send data field DFLUX\n",
      "PYCCX - INFO - ccx_server: And, done!\n",
      "PYCCX - INFO - ccx_server: Send new time step 0.050000 to solver\n",
      "PYCCX - INFO - ccx_server: Begin to increment by sending DONE signal\n",
      "PYCCX - INFO - ccx_server: And, done!\n",
      "PYCCX - INFO - ccx_server: Receive action TEMP\n",
      "PYCCX - INFO - ccx_server: Receive action DT\n",
      "PYCCX - INFO - ccx_server: Receive action INCREMENT\n",
      "PYCCX - INFO - ccx_server: Receive action DONE\n",
      "PYCCX - INFO - ccx_server: receive DONE signal\n",
      "PYCCX - INFO - ccx_server: Update database\n",
      "PYCCX - INFO - ccx_server: And, done!\n",
      "PYCCX - INFO - ccx_server: Send advance signal by DONE flag\n",
      "PYCCX - INFO - ccx_server: And, done!\n",
      "PYCCX - INFO - ccx_server: Got data fields ['dflux'], first update database\n",
      "PYCCX - INFO - ccx_server: Send database to the solver client\n",
      "PYCCX - INFO - ccx_server: Send data field DFLUX\n",
      "PYCCX - INFO - ccx_server: And, done!\n",
      "PYCCX - INFO - ccx_server: Send new time step 0.050000 to solver\n",
      "PYCCX - ERROR - ccx_server: Fail to send tag with error [Errno 104] Connection reset by peer.\n"
     ]
    },
    {
     "ename": "ConnectionResetError",
     "evalue": "[Errno 104] Connection reset by peer",
     "output_type": "error",
     "traceback": [
      "\u001b[0;31m---------------------------------------------------------------------------\u001b[0m",
      "\u001b[0;31mConnectionResetError\u001b[0m                      Traceback (most recent call last)",
      "\u001b[0;32m<ipython-input-14-8da32e7317c1>\u001b[0m in \u001b[0;36m<module>\u001b[0;34m()\u001b[0m\n\u001b[1;32m      2\u001b[0m     \u001b[0mt\u001b[0m \u001b[0;34m+=\u001b[0m \u001b[0mdt\u001b[0m\u001b[0;34m\u001b[0m\u001b[0m\n\u001b[1;32m      3\u001b[0m     \u001b[0mccx\u001b[0m\u001b[0;34m.\u001b[0m\u001b[0msend_data_fields\u001b[0m\u001b[0;34m(\u001b[0m\u001b[0mdflux\u001b[0m\u001b[0;34m=\u001b[0m\u001b[0mflux\u001b[0m\u001b[0;34m)\u001b[0m\u001b[0;34m\u001b[0m\u001b[0m\n\u001b[0;32m----> 4\u001b[0;31m     \u001b[0mccx\u001b[0m\u001b[0;34m.\u001b[0m\u001b[0mincrement\u001b[0m\u001b[0;34m(\u001b[0m\u001b[0mdt\u001b[0m\u001b[0;34m)\u001b[0m\u001b[0;34m\u001b[0m\u001b[0m\n\u001b[0m\u001b[1;32m      5\u001b[0m     \u001b[0mccx\u001b[0m\u001b[0;34m.\u001b[0m\u001b[0mrecv_info\u001b[0m\u001b[0;34m(\u001b[0m\u001b[0;34m)\u001b[0m\u001b[0;34m\u001b[0m\u001b[0m\n\u001b[1;32m      6\u001b[0m     \u001b[0mccx\u001b[0m\u001b[0;34m.\u001b[0m\u001b[0madvance\u001b[0m\u001b[0;34m(\u001b[0m\u001b[0;34m)\u001b[0m\u001b[0;34m\u001b[0m\u001b[0m\n",
      "\u001b[0;32m/usr/local/lib/python3.6/dist-packages/pyccx-0.1.0-py3.6-linux-x86_64.egg/pyccx/server/ccx_server.py\u001b[0m in \u001b[0;36mincrement\u001b[0;34m(self, dt)\u001b[0m\n\u001b[1;32m    679\u001b[0m         \u001b[0;32mif\u001b[0m \u001b[0mdt\u001b[0m \u001b[0;34m>\u001b[0m \u001b[0;36m0.0\u001b[0m\u001b[0;34m:\u001b[0m\u001b[0;34m\u001b[0m\u001b[0m\n\u001b[1;32m    680\u001b[0m             \u001b[0mlogger\u001b[0m\u001b[0;34m.\u001b[0m\u001b[0minfo\u001b[0m\u001b[0;34m(\u001b[0m\u001b[0;34m'Send new time step %f to solver'\u001b[0m\u001b[0;34m,\u001b[0m \u001b[0mdt\u001b[0m\u001b[0;34m)\u001b[0m\u001b[0;34m\u001b[0m\u001b[0m\n\u001b[0;32m--> 681\u001b[0;31m             \u001b[0mself\u001b[0m\u001b[0;34m.\u001b[0m\u001b[0m_send_tag\u001b[0m\u001b[0;34m(\u001b[0m\u001b[0mActions\u001b[0m\u001b[0;34m.\u001b[0m\u001b[0mDT\u001b[0m\u001b[0;34m,\u001b[0m \u001b[0;36m0\u001b[0m\u001b[0;34m)\u001b[0m\u001b[0;34m\u001b[0m\u001b[0m\n\u001b[0m\u001b[1;32m    682\u001b[0m             \u001b[0mself\u001b[0m\u001b[0;34m.\u001b[0m\u001b[0m_send_arr\u001b[0m\u001b[0;34m(\u001b[0m\u001b[0mnp\u001b[0m\u001b[0;34m.\u001b[0m\u001b[0masarray\u001b[0m\u001b[0;34m(\u001b[0m\u001b[0;34m[\u001b[0m\u001b[0mdt\u001b[0m\u001b[0;34m]\u001b[0m\u001b[0;34m)\u001b[0m\u001b[0;34m)\u001b[0m\u001b[0;34m\u001b[0m\u001b[0m\n\u001b[1;32m    683\u001b[0m         \u001b[0mlogger\u001b[0m\u001b[0;34m.\u001b[0m\u001b[0minfo\u001b[0m\u001b[0;34m(\u001b[0m\u001b[0;34m'Begin to increment by sending DONE signal'\u001b[0m\u001b[0;34m)\u001b[0m\u001b[0;34m\u001b[0m\u001b[0m\n",
      "\u001b[0;32m/usr/local/lib/python3.6/dist-packages/pyccx-0.1.0-py3.6-linux-x86_64.egg/pyccx/server/ccx_server.py\u001b[0m in \u001b[0;36m_send_tag\u001b[0;34m(self, act, size)\u001b[0m\n\u001b[1;32m    914\u001b[0m     \u001b[0;32mdef\u001b[0m \u001b[0m_send_tag\u001b[0m\u001b[0;34m(\u001b[0m\u001b[0mself\u001b[0m\u001b[0;34m,\u001b[0m \u001b[0mact\u001b[0m\u001b[0;34m,\u001b[0m \u001b[0msize\u001b[0m\u001b[0;34m)\u001b[0m\u001b[0;34m:\u001b[0m\u001b[0;34m\u001b[0m\u001b[0m\n\u001b[1;32m    915\u001b[0m         \u001b[0;32mtry\u001b[0m\u001b[0;34m:\u001b[0m\u001b[0;34m\u001b[0m\u001b[0m\n\u001b[0;32m--> 916\u001b[0;31m             \u001b[0mccx_com\u001b[0m\u001b[0;34m.\u001b[0m\u001b[0msend_tag\u001b[0m\u001b[0;34m(\u001b[0m\u001b[0mself\u001b[0m\u001b[0;34m.\u001b[0m\u001b[0m_client\u001b[0m\u001b[0;34m,\u001b[0m \u001b[0mccx_com\u001b[0m\u001b[0;34m.\u001b[0m\u001b[0mgen_tag\u001b[0m\u001b[0;34m(\u001b[0m\u001b[0mact\u001b[0m\u001b[0;34m,\u001b[0m \u001b[0msize\u001b[0m\u001b[0;34m)\u001b[0m\u001b[0;34m)\u001b[0m\u001b[0;34m\u001b[0m\u001b[0m\n\u001b[0m\u001b[1;32m    917\u001b[0m         \u001b[0;32mexcept\u001b[0m \u001b[0mException\u001b[0m \u001b[0;32mas\u001b[0m \u001b[0me\u001b[0m\u001b[0;34m:\u001b[0m\u001b[0;34m\u001b[0m\u001b[0m\n\u001b[1;32m    918\u001b[0m             \u001b[0mmsg\u001b[0m \u001b[0;34m=\u001b[0m \u001b[0;34m'Fail to send tag with error %s.'\u001b[0m \u001b[0;34m%\u001b[0m \u001b[0me\u001b[0m\u001b[0;34m\u001b[0m\u001b[0m\n",
      "\u001b[0;32m/usr/local/lib/python3.6/dist-packages/pyccx-0.1.0-py3.6-linux-x86_64.egg/pyccx/server/ccx_com.py\u001b[0m in \u001b[0;36msend_tag\u001b[0;34m(sock, tag)\u001b[0m\n\u001b[1;32m    290\u001b[0m     \u001b[0;34m:\u001b[0m\u001b[0mfunc\u001b[0m\u001b[0;34m:\u001b[0m\u001b[0;31m`\u001b[0m\u001b[0mgen_tag\u001b[0m\u001b[0;31m`\u001b[0m\u001b[0;34m\u001b[0m\u001b[0m\n\u001b[1;32m    291\u001b[0m     \"\"\"\n\u001b[0;32m--> 292\u001b[0;31m     \u001b[0msock\u001b[0m\u001b[0;34m.\u001b[0m\u001b[0msend\u001b[0m\u001b[0;34m(\u001b[0m\u001b[0m_size_t2char\u001b[0m\u001b[0;34m(\u001b[0m\u001b[0mtag\u001b[0m\u001b[0;34m)\u001b[0m\u001b[0;34m,\u001b[0m \u001b[0mDONTWAIT\u001b[0m\u001b[0;34m)\u001b[0m\u001b[0;34m\u001b[0m\u001b[0m\n\u001b[0m\u001b[1;32m    293\u001b[0m \u001b[0;34m\u001b[0m\u001b[0m\n\u001b[1;32m    294\u001b[0m \u001b[0;34m\u001b[0m\u001b[0m\n",
      "\u001b[0;31mConnectionResetError\u001b[0m: [Errno 104] Connection reset by peer"
     ]
    }
   ],
   "source": [
    "while abs(T-t) > 1e-6:\n",
    "    t += dt\n",
    "    ccx.send_data_fields(dflux=flux)\n",
    "    ccx.increment(dt)\n",
    "    ccx.recv_info()\n",
    "    ccx.advance()\n",
    "    ccx.continue_coupling_step()\n",
    "ccx.finalize_coupling_step()\n",
    "ccx.safe_terminate()"
   ]
  },
  {
   "cell_type": "code",
   "execution_count": null,
   "metadata": {},
   "outputs": [],
   "source": [
    "ccx._safe_terminate_impl()"
   ]
  },
  {
   "cell_type": "code",
   "execution_count": null,
   "metadata": {},
   "outputs": [],
   "source": []
  }
 ],
 "metadata": {
  "kernelspec": {
   "display_name": "Python 3",
   "language": "python",
   "name": "python3"
  },
  "language_info": {
   "codemirror_mode": {
    "name": "ipython",
    "version": 3
   },
   "file_extension": ".py",
   "mimetype": "text/x-python",
   "name": "python",
   "nbconvert_exporter": "python",
   "pygments_lexer": "ipython3",
   "version": "3.6.3"
  },
  "latex_envs": {
   "LaTeX_envs_menu_present": true,
   "autoclose": false,
   "autocomplete": true,
   "bibliofile": "biblio.bib",
   "cite_by": "apalike",
   "current_citInitial": 1,
   "eqLabelWithNumbers": true,
   "eqNumInitial": 1,
   "hotkeys": {
    "equation": "Ctrl-E",
    "itemize": "Ctrl-I"
   },
   "labels_anchors": false,
   "latex_user_defs": false,
   "report_style_numbering": false,
   "user_envs_cfg": false
  }
 },
 "nbformat": 4,
 "nbformat_minor": 2
}
